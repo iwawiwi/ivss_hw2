{
 "cells": [
  {
   "cell_type": "code",
   "execution_count": null,
   "metadata": {},
   "outputs": [],
   "source": [
    "import os\n",
    "os.environ['CUDA_VISIBLE_DEVICES'] = '0'\n",
    "import numpy as np\n",
    "import cv2\n",
    "import matplotlib.pyplot as plt"
   ]
  },
  {
   "cell_type": "code",
   "execution_count": null,
   "metadata": {},
   "outputs": [],
   "source": [
    "DATA_DIR = \"../../Dataset/SYNTHIA-SF/\"\n",
    "\n",
    "CLASSES = [\n",
    "    \"void\", \"road\", \"sidewalk\", \"building\", \"wall\", \"fence\", \"pole\", \"traffic light\", \n",
    "    \"traffic sign\", \"vegetation\", \"terrain\", \"sky\", \"person\", \"rider\", \"car\", \"truck\", \n",
    "    \"bus\", \"train\", \"motorcycle\", \"bicycle\", \"road lines\", \"other\", \"road works\"\n",
    "]"
   ]
  },
  {
   "cell_type": "code",
   "execution_count": null,
   "metadata": {},
   "outputs": [],
   "source": [
    "# helper function for data visualization\n",
    "def visualize(**images):\n",
    "    \"\"\"PLot images in one row.\"\"\"\n",
    "    n = len(images)\n",
    "    plt.figure(figsize=(16, 5))\n",
    "    for i, (name, image) in enumerate(images.items()):\n",
    "        plt.subplot(1, n, i + 1)\n",
    "        plt.xticks([])\n",
    "        plt.yticks([])\n",
    "        plt.title(' '.join(name.split('_')).title())\n",
    "        plt.imshow(image)\n",
    "    plt.show()"
   ]
  },
  {
   "cell_type": "markdown",
   "metadata": {},
   "source": [
    "### Dataloader"
   ]
  },
  {
   "cell_type": "code",
   "execution_count": null,
   "metadata": {},
   "outputs": [],
   "source": [
    "from torch.utils.data import DataLoader\n",
    "from torch.utils.data import Dataset\n",
    "from pathlib import Path\n",
    "from utils import Labels"
   ]
  },
  {
   "cell_type": "code",
   "execution_count": null,
   "metadata": {},
   "outputs": [],
   "source": [
    "class SynthiaDataset(Dataset):\n",
    "\n",
    "    CLASSES = [\n",
    "        \"void\", \"road\", \"sidewalk\", \"building\", \"wall\", \"fence\", \"pole\", \"traffic light\", \n",
    "        \"traffic sign\", \"vegetation\", \"terrain\", \"sky\", \"person\", \"rider\", \"car\", \"truck\", \n",
    "        \"bus\", \"train\", \"motorcycle\", \"bicycle\", \"road lines\", \"other\", \"road works\"\n",
    "    ]\n",
    "    \n",
    "    def __init__(self, path=\"../../Dataset/SYNTHIA-SF\", classes=None, augmentation=None, preprocessing=None,):\n",
    "        self.rootdir = Path(path)\n",
    "        # get list of file\n",
    "        self.left_imgs, self.left_gts = self.prepare_data(path) \n",
    "    \n",
    "        # convert str names to class values on masks\n",
    "        if classes == None:\n",
    "            classes = self.CLASSES # if no value, assign all classes\n",
    "        self.class_values = [self.CLASSES.index(cls.lower()) for cls in classes]\n",
    "        \n",
    "        self.augmentation = augmentation\n",
    "        self.preprocessing = preprocessing\n",
    "    \n",
    "    def __getitem__(self, index):\n",
    "        \"\"\"Get sample from dataset\"\"\"\n",
    "        # read data\n",
    "        # NOTE: using opencv image reader\n",
    "        # TODO: should be converted to PIL image?\n",
    "        image = cv2.imread(str(self.left_imgs[index]))\n",
    "        image = cv2.cvtColor(image, cv2.COLOR_BGR2RGB)\n",
    "        mask = cv2.imread(str(self.left_gts[index]))\n",
    "        mask = cv2.cvtColor(mask, cv2.COLOR_BGR2RGB)\n",
    "        mask = mask[...,0] # Label on RED channel\n",
    "        \n",
    "        # extract certain classes from mask (e.g. cars)\n",
    "        masks = [(mask == v) for v in self.class_values]\n",
    "        mask = np.stack(masks, axis=-1).astype('float')\n",
    "        \n",
    "        # apply augmentations\n",
    "        if self.augmentation:\n",
    "            sample = self.augmentation(image=image, mask=mask)\n",
    "            image, mask = sample['image'], sample['mask']\n",
    "        \n",
    "        # apply preprocessing\n",
    "        if self.preprocessing:\n",
    "            sample = self.preprocessing(image=image, mask=mask)\n",
    "            image, mask = sample['image'], sample['mask']\n",
    "            \n",
    "        return image, mask\n",
    "        \n",
    "    def __len__(self):\n",
    "        \"\"\"Return dataset size\"\"\"\n",
    "        return len(self.left_imgs)\n",
    "\n",
    "    def prepare_data(self, path):\n",
    "        \"\"\"Return list of all images in dataset\"\"\"\n",
    "        left_imgs = list(self.rootdir.glob(\"*/RGBLeft/*.png\"))\n",
    "        left_gts = list(self.rootdir.glob(\"*/GTLeft/*.png\"))\n",
    "        \n",
    "        return left_imgs, left_gts"
   ]
  },
  {
   "cell_type": "code",
   "execution_count": null,
   "metadata": {},
   "outputs": [],
   "source": [
    "# Lets look at data we have\n",
    "dataset = SynthiaDataset(classes=CLASSES)\n",
    "\n",
    "image, mask = dataset[0] # get some sample\n",
    "mask_max = mask.argmax(-1)\n",
    "print(mask_max)\n",
    "gt_mask_color = Labels.colorize(mask_max)\n",
    "total_class = mask.shape[-1]\n",
    "\n",
    "visualize(image=image, segmentation_label=gt_mask_color)\n",
    "\n",
    "# for i in range(3):\n",
    "#     visualize(\n",
    "#         image=image, \n",
    "#         cars_mask=mask[...,i].squeeze(),\n",
    "#     )"
   ]
  },
  {
   "cell_type": "markdown",
   "metadata": {},
   "source": [
    "### Augmentation"
   ]
  },
  {
   "cell_type": "code",
   "execution_count": null,
   "metadata": {},
   "outputs": [],
   "source": [
    "import albumentations as albu"
   ]
  },
  {
   "cell_type": "code",
   "execution_count": null,
   "metadata": {},
   "outputs": [],
   "source": [
    "def get_training_augmentation():\n",
    "    train_transform = [\n",
    "\n",
    "        albu.HorizontalFlip(p=0.5),\n",
    "\n",
    "        albu.ShiftScaleRotate(scale_limit=0.5, rotate_limit=0, shift_limit=0.1, p=1, border_mode=0),\n",
    "\n",
    "        albu.PadIfNeeded(min_height=320, min_width=320, always_apply=True, border_mode=0),\n",
    "        albu.RandomCrop(height=320, width=320, always_apply=True),\n",
    "\n",
    "        albu.IAAAdditiveGaussianNoise(p=0.2),\n",
    "        albu.IAAPerspective(p=0.5),\n",
    "\n",
    "        albu.OneOf(\n",
    "            [\n",
    "                albu.CLAHE(p=1),\n",
    "                albu.RandomBrightness(p=1),\n",
    "                albu.RandomGamma(p=1),\n",
    "            ],\n",
    "            p=0.9,\n",
    "        ),\n",
    "\n",
    "        albu.OneOf(\n",
    "            [\n",
    "                albu.IAASharpen(p=1),\n",
    "                albu.Blur(blur_limit=3, p=1),\n",
    "                albu.MotionBlur(blur_limit=3, p=1),\n",
    "            ],\n",
    "            p=0.9,\n",
    "        ),\n",
    "\n",
    "        albu.OneOf(\n",
    "            [\n",
    "                albu.RandomContrast(p=1),\n",
    "                albu.HueSaturationValue(p=1),\n",
    "            ],\n",
    "            p=0.9,\n",
    "        ),\n",
    "    ]\n",
    "    return albu.Compose(train_transform)\n",
    "\n",
    "\n",
    "def get_validation_augmentation():\n",
    "    \"\"\"Add paddings to make image shape divisible by 32\"\"\"\n",
    "    test_transform = [\n",
    "        albu.PadIfNeeded(1088, 1920)\n",
    "        #albu.PadIfNeeded(320, 320)\n",
    "    ]\n",
    "    return albu.Compose(test_transform)\n",
    "\n",
    "\n",
    "def to_tensor(x, **kwargs):\n",
    "    return x.transpose(2, 0, 1).astype('float32')\n",
    "\n",
    "\n",
    "def get_preprocessing(preprocessing_fn):\n",
    "    \"\"\"Construct preprocessing transform\n",
    "    \n",
    "    Args:\n",
    "        preprocessing_fn (callbale): data normalization function \n",
    "            (can be specific for each pretrained neural network)\n",
    "    Return:\n",
    "        transform: albumentations.Compose\n",
    "    \n",
    "    \"\"\"\n",
    "    \n",
    "    _transform = [\n",
    "        albu.Lambda(image=preprocessing_fn),\n",
    "        albu.Lambda(image=to_tensor, mask=to_tensor),\n",
    "    ]\n",
    "    return albu.Compose(_transform)"
   ]
  },
  {
   "cell_type": "code",
   "execution_count": null,
   "metadata": {},
   "outputs": [],
   "source": [
    "#### Visualize resulted augmented images and masks\n",
    "augmented_dataset = SynthiaDataset(\n",
    "    augmentation=get_training_augmentation(), \n",
    "    classes=CLASSES,\n",
    ")\n",
    "\n",
    "# same image with different random transforms\n",
    "for i in range(3):\n",
    "    image, mask = augmented_dataset[1]\n",
    "    visualize(image=image, void_mask=mask[...,0].squeeze(), road_mask=mask[...,1].squeeze())\n",
    "    print(mask[...,0].shape)"
   ]
  },
  {
   "cell_type": "markdown",
   "metadata": {},
   "source": [
    "### Create model and train"
   ]
  },
  {
   "cell_type": "code",
   "execution_count": null,
   "metadata": {},
   "outputs": [],
   "source": [
    "import torch\n",
    "import numpy as np\n",
    "import segmentation_models_pytorch as smp"
   ]
  },
  {
   "cell_type": "code",
   "execution_count": null,
   "metadata": {},
   "outputs": [],
   "source": [
    "ENCODER = 'mobilenet_v2'\n",
    "ENCODER_WEIGHTS = 'imagenet'\n",
    "CLASSES = CLASSES\n",
    "ACTIVATION = 'softmax2d' # could be None for logits or 'softmax2d' for multiclass segmentation\n",
    "DEVICE = 'cuda'\n",
    "\n",
    "# create segmentation model with pretrained encoder\n",
    "model = smp.DeepLabV3Plus(\n",
    "    encoder_name=ENCODER, \n",
    "    encoder_weights=ENCODER_WEIGHTS, \n",
    "    classes=len(CLASSES), \n",
    "    activation=ACTIVATION,\n",
    ")\n",
    "\n",
    "preprocessing_fn = smp.encoders.get_preprocessing_fn(ENCODER, ENCODER_WEIGHTS)\n",
    "print(model.parameters)"
   ]
  },
  {
   "cell_type": "code",
   "execution_count": null,
   "metadata": {},
   "outputs": [],
   "source": [
    "train_dataset = SynthiaDataset(\n",
    "    augmentation=get_training_augmentation(), \n",
    "    preprocessing=get_preprocessing(preprocessing_fn),\n",
    "    classes=CLASSES,\n",
    ")\n",
    "\n",
    "valid_dataset = SynthiaDataset(\n",
    "    augmentation=get_validation_augmentation(), \n",
    "    preprocessing=get_preprocessing(preprocessing_fn),\n",
    "    classes=CLASSES,\n",
    ")\n",
    "\n",
    "train_loader = DataLoader(train_dataset, batch_size=8, shuffle=True)\n",
    "valid_loader = DataLoader(valid_dataset, batch_size=4, shuffle=False)"
   ]
  },
  {
   "cell_type": "code",
   "execution_count": null,
   "metadata": {},
   "outputs": [],
   "source": [
    "# Dice/F1 score - https://en.wikipedia.org/wiki/S%C3%B8rensen%E2%80%93Dice_coefficient\n",
    "# IoU/Jaccard score - https://en.wikipedia.org/wiki/Jaccard_index\n",
    "loss = smp.utils.losses.DiceLoss()\n",
    "metrics = [\n",
    "    smp.utils.metrics.IoU(threshold=0.7),\n",
    "]\n",
    "\n",
    "optimizer = torch.optim.Adam([ \n",
    "    dict(params=model.parameters(), lr=0.0001),\n",
    "])"
   ]
  },
  {
   "cell_type": "code",
   "execution_count": null,
   "metadata": {},
   "outputs": [],
   "source": [
    "# create epoch runners \n",
    "# it is a simple loop of iterating over dataloader`s samples\n",
    "train_epoch = smp.utils.train.TrainEpoch(\n",
    "    model, \n",
    "    loss=loss, \n",
    "    metrics=metrics, \n",
    "    optimizer=optimizer,\n",
    "    device=DEVICE,\n",
    "    verbose=True,\n",
    ")\n",
    "\n",
    "valid_epoch = smp.utils.train.ValidEpoch(\n",
    "    model, \n",
    "    loss=loss, \n",
    "    metrics=metrics, \n",
    "    device=DEVICE,\n",
    "    verbose=True,\n",
    ")"
   ]
  },
  {
   "cell_type": "code",
   "execution_count": null,
   "metadata": {},
   "outputs": [],
   "source": [
    "# train model for 40 epochs\n",
    "max_score = 0\n",
    "EPOCHS = 10\n",
    "for i in range(0, EPOCHS):\n",
    "    \n",
    "    print('\\nEpoch: {}'.format(i))\n",
    "    train_logs = train_epoch.run(train_loader)\n",
    "    #valid_logs = valid_epoch.run(valid_loader)\n",
    "    \n",
    "    # do something (save model, change lr, etc.)\n",
    "    #if max_score < valid_logs['iou_score']:\n",
    "    if max_score < train_logs['iou_score']:\n",
    "        #max_score = valid_logs['iou_score']\n",
    "        max_score = train_logs['iou_score']\n",
    "        torch.save(model, './best_model.pth')\n",
    "        print('Model saved!')\n",
    "        \n",
    "    if i == 7:\n",
    "        optimizer.param_groups[0]['lr'] = 1e-5\n",
    "        print('Decrease decoder learning rate to 1e-4!')"
   ]
  },
  {
   "cell_type": "markdown",
   "metadata": {},
   "source": [
    "### Test best model"
   ]
  },
  {
   "cell_type": "code",
   "execution_count": null,
   "metadata": {},
   "outputs": [],
   "source": [
    "import torch\n",
    "import numpy as np\n",
    "\n",
    "MODEL_NAME = \"best_model.pth\"\n",
    "# load best saved checkpoint\n",
    "best_model = torch.load(MODEL_NAME)"
   ]
  },
  {
   "cell_type": "code",
   "execution_count": null,
   "metadata": {},
   "outputs": [],
   "source": [
    "# create test dataset\n",
    "test_dataset = SynthiaDataset(\n",
    "    augmentation=get_validation_augmentation(), \n",
    "    preprocessing=get_preprocessing(preprocessing_fn),\n",
    "    classes=CLASSES,\n",
    ")\n",
    "\n",
    "image, mask = test_dataset[0]\n",
    "print(image.shape)\n",
    "\n",
    "test_dataloader = DataLoader(test_dataset)"
   ]
  },
  {
   "cell_type": "code",
   "execution_count": null,
   "metadata": {},
   "outputs": [],
   "source": [
    "# evaluate model on test set\n",
    "test_epoch = smp.utils.train.ValidEpoch(\n",
    "    model=best_model,\n",
    "    loss=loss,\n",
    "    metrics=metrics,\n",
    "    device=DEVICE,\n",
    ")\n",
    "\n",
    "logs = test_epoch.run(test_dataloader)"
   ]
  },
  {
   "cell_type": "markdown",
   "metadata": {},
   "source": [
    "### Visualize prediction"
   ]
  },
  {
   "cell_type": "code",
   "execution_count": null,
   "metadata": {},
   "outputs": [],
   "source": [
    "# test dataset without transformations for image visualization\n",
    "test_dataset_vis = SynthiaDataset(\n",
    "    classes=CLASSES,\n",
    ")"
   ]
  },
  {
   "cell_type": "code",
   "execution_count": null,
   "metadata": {},
   "outputs": [],
   "source": [
    "n = np.random.choice(len(test_dataset))\n",
    "image_vis = test_dataset[n][0].astype('uint8')\n",
    "print(image_vis.shape)\n",
    "gt_vis = test_dataset[n][1].astype('uint8')\n",
    "print(gt_vis.shape)"
   ]
  },
  {
   "cell_type": "code",
   "execution_count": null,
   "metadata": {},
   "outputs": [],
   "source": [
    "image_vis_test, gt_vis_test = test_dataset_vis[n]\n",
    "print(image_vis_test.shape, gt_vis_test.shape)"
   ]
  },
  {
   "cell_type": "code",
   "execution_count": null,
   "metadata": {},
   "outputs": [],
   "source": [
    "#visualize(image_vis=image_vis) # test dataset cannot be displayed because already pre_processed for testing\n",
    "visualize(image_vis_test=image_vis_test)"
   ]
  },
  {
   "cell_type": "code",
   "execution_count": null,
   "metadata": {},
   "outputs": [],
   "source": [
    "for i in range(1):\n",
    "    n = np.random.choice(len(test_dataset))\n",
    "    \n",
    "    image_vis = test_dataset_vis[n][0].astype('uint8')\n",
    "    image, gt_mask = test_dataset[n]\n",
    "    \n",
    "    gt_mask = gt_mask.squeeze()\n",
    "    \n",
    "    x_tensor = torch.from_numpy(image).to(DEVICE).unsqueeze(0)\n",
    "    pr_mask = best_model.predict(x_tensor)\n",
    "    pr_mask = (pr_mask.squeeze().cpu().numpy().round())\n",
    "\n",
    "    # BUILDING   \n",
    "    visualize(\n",
    "        image=image_vis, \n",
    "        ground_truth_mask=gt_mask[2,...].squeeze(), \n",
    "        predicted_mask=pr_mask[2,...].squeeze()\n",
    "    )\n",
    "    # CAR\n",
    "    visualize(\n",
    "        image=image_vis, \n",
    "        ground_truth_mask=gt_mask[9,...].squeeze(), \n",
    "        predicted_mask=pr_mask[9,...].squeeze()\n",
    "    )"
   ]
  },
  {
   "cell_type": "markdown",
   "metadata": {},
   "source": [
    "### Visualize segmentation in one image"
   ]
  },
  {
   "cell_type": "code",
   "execution_count": null,
   "metadata": {},
   "outputs": [],
   "source": [
    "# Visuaize segmentation in one image\n",
    "print(pr_mask.shape)"
   ]
  },
  {
   "cell_type": "code",
   "execution_count": null,
   "metadata": {},
   "outputs": [],
   "source": [
    "vis_image = pr_mask.argmax(0)\n",
    "print(vis_image.shape)\n",
    "print(vis_image)"
   ]
  },
  {
   "cell_type": "code",
   "execution_count": null,
   "metadata": {},
   "outputs": [],
   "source": [
    "from utils import Labels\n",
    "\n",
    "vis_image_color = Labels.colorize(vis_image)"
   ]
  },
  {
   "cell_type": "code",
   "execution_count": null,
   "metadata": {},
   "outputs": [],
   "source": [
    "visualize(image=image_vis, segmented_image=vis_image_color)"
   ]
  },
  {
   "cell_type": "code",
   "execution_count": null,
   "metadata": {},
   "outputs": [],
   "source": [
    "gt_mask_max = gt_mask.argmax(0)\n",
    "gt_mask_color = Labels.colorize(gt_mask_max)\n",
    "visualize(image=image_vis, gt_mask_color=gt_mask_color)"
   ]
  },
  {
   "cell_type": "markdown",
   "metadata": {},
   "source": [
    "### Load Model and Visualize Segmentation"
   ]
  },
  {
   "cell_type": "code",
   "execution_count": 1,
   "metadata": {},
   "outputs": [],
   "source": [
    "import torch\n",
    "import augment\n",
    "import utils\n",
    "from utils import Labels\n",
    "import numpy as np\n",
    "from SynthiaDataset import SynthiaDataset\n",
    "from torch.utils.data import DataLoader\n",
    "import segmentation_models_pytorch as smp"
   ]
  },
  {
   "cell_type": "code",
   "execution_count": 2,
   "metadata": {},
   "outputs": [],
   "source": [
    "DATA_DIR = \"../../Dataset/SYNTHIA-SF/\"\n",
    "#ENCODER = \"se_resnext50_32x4d\"\n",
    "ENCODER = \"mobilenet_v2\"\n",
    "ENCODER_WEIGHTS = \"imagenet\"\n",
    "#CLASSES = [\"car\"]\n",
    "CLASSES = [\n",
    "    \"void\", \"road\", \"sidewalk\", \"building\", \"wall\", \"fence\", \"pole\", \"traffic light\", \n",
    "    \"traffic sign\", \"vegetation\", \"terrain\", \"sky\", \"person\", \"rider\", \"car\", \"truck\", \n",
    "    \"bus\", \"train\", \"motorcycle\", \"bicycle\", \"road lines\", \"other\", \"road works\"\n",
    "]\n",
    "ACTIVATION = \"sigmoid\" # could be None for logits or 'softmax2d' for multiclass segmentation\n",
    "DEVICE = \"cuda\""
   ]
  },
  {
   "cell_type": "code",
   "execution_count": 3,
   "metadata": {},
   "outputs": [
    {
     "ename": "TypeError",
     "evalue": "__init__() got an unexpected keyword argument 'valid'",
     "output_type": "error",
     "traceback": [
      "\u001b[1;31m---------------------------------------------------------------------------\u001b[0m",
      "\u001b[1;31mTypeError\u001b[0m                                 Traceback (most recent call last)",
      "\u001b[1;32mC:\\Users\\WAYANW~1\\AppData\\Local\\Temp/ipykernel_11608/466608439.py\u001b[0m in \u001b[0;36m<module>\u001b[1;34m\u001b[0m\n\u001b[0;32m      9\u001b[0m \u001b[1;33m\u001b[0m\u001b[0m\n\u001b[0;32m     10\u001b[0m \u001b[1;31m# create test dataset using full Synthia dataset\u001b[0m\u001b[1;33m\u001b[0m\u001b[1;33m\u001b[0m\u001b[1;33m\u001b[0m\u001b[0m\n\u001b[1;32m---> 11\u001b[1;33m test_dataset = SynthiaDataset(\n\u001b[0m\u001b[0;32m     12\u001b[0m     \u001b[0maugmentation\u001b[0m\u001b[1;33m=\u001b[0m\u001b[0maugment\u001b[0m\u001b[1;33m.\u001b[0m\u001b[0mget_validation_augmentation\u001b[0m\u001b[1;33m(\u001b[0m\u001b[1;33m)\u001b[0m\u001b[1;33m,\u001b[0m\u001b[1;33m\u001b[0m\u001b[1;33m\u001b[0m\u001b[0m\n\u001b[0;32m     13\u001b[0m     \u001b[0mpreprocessing\u001b[0m\u001b[1;33m=\u001b[0m\u001b[0maugment\u001b[0m\u001b[1;33m.\u001b[0m\u001b[0mget_preprocessing\u001b[0m\u001b[1;33m(\u001b[0m\u001b[0mpreprocessing_fn\u001b[0m\u001b[1;33m)\u001b[0m\u001b[1;33m,\u001b[0m\u001b[1;33m\u001b[0m\u001b[1;33m\u001b[0m\u001b[0m\n",
      "\u001b[1;31mTypeError\u001b[0m: __init__() got an unexpected keyword argument 'valid'"
     ]
    }
   ],
   "source": [
    "loss = smp.utils.losses.DiceLoss()\n",
    "metrics = [\n",
    "    smp.utils.metrics.IoU(threshold=0.7),\n",
    "]\n",
    "\n",
    "#best_model = torch.load('./all_deeplab_mobilenetv2_v3_iou5.pth')\n",
    "best_model = torch.load('./all_deeplab_mobilenet.pth')\n",
    "preprocessing_fn = smp.encoders.get_preprocessing_fn(ENCODER, ENCODER_WEIGHTS)\n",
    "\n",
    "# create test dataset using full Synthia dataset\n",
    "test_dataset = SynthiaDataset(\n",
    "    augmentation=augment.get_validation_augmentation(), \n",
    "    preprocessing=augment.get_preprocessing(preprocessing_fn),\n",
    "    classes=CLASSES,\n",
    "    test=True\n",
    ")\n",
    "# validation metrics\n",
    "test_dataloader = DataLoader(test_dataset, batch_size=2)\n",
    "\n",
    "test_dataset_vis = SynthiaDataset( \n",
    "    classes=CLASSES,\n",
    ")"
   ]
  },
  {
   "cell_type": "code",
   "execution_count": null,
   "metadata": {},
   "outputs": [],
   "source": [
    "data, mask = test_dataset[0]\n",
    "mask_max = mask.argmax(0)\n",
    "print(mask_max)\n",
    "mask_color = Labels.colorize(mask_max)\n",
    "utils.visualize(image=np.moveaxis(data, 0,-1), mask=mask_color)"
   ]
  },
  {
   "cell_type": "code",
   "execution_count": null,
   "metadata": {},
   "outputs": [],
   "source": [
    "# evaluate model on all images in the dataset\n",
    "test_epoch = smp.utils.train.ValidEpoch(\n",
    "    model=best_model,\n",
    "    loss=loss,\n",
    "    metrics=metrics,\n",
    "    device=DEVICE,\n",
    ")\n",
    "logs = test_epoch.run(test_dataloader)"
   ]
  },
  {
   "cell_type": "code",
   "execution_count": null,
   "metadata": {},
   "outputs": [],
   "source": [
    "# test dataset without transformations for image visualization\n",
    "for i in range(5):\n",
    "    n = np.random.choice(len(test_dataset))\n",
    "    \n",
    "    image_vis = test_dataset_vis[n][0].astype('uint8')\n",
    "    image, gt_mask = test_dataset[n]\n",
    "    \n",
    "    gt_mask = gt_mask.squeeze()\n",
    "    gt_mask_max = gt_mask.argmax(0)\n",
    "    gt_mask_color = Labels.colorize(gt_mask_max)\n",
    "    \n",
    "    x_tensor = torch.from_numpy(image).to(DEVICE).unsqueeze(0)\n",
    "    pr_mask = best_model.predict(x_tensor)\n",
    "    #pr_mask = (pr_mask.squeeze().cpu().numpy().round())\n",
    "    pr_mask = pr_mask.squeeze().cpu().numpy()\n",
    "\n",
    "    pr_mask_max = pr_mask.argmax(0)\n",
    "    pr_mask_color = Labels.colorize(pr_mask_max)\n",
    "\n",
    "        \n",
    "    utils.visualize(\n",
    "        image=image_vis, \n",
    "        ground_truth_mask=gt_mask_color, \n",
    "        predicted_mask=pr_mask_color\n",
    "    )"
   ]
  },
  {
   "cell_type": "code",
   "execution_count": null,
   "metadata": {},
   "outputs": [],
   "source": [
    "# check what has been predicted\n",
    "n = np.random.choice(len(test_dataset))\n",
    "\n",
    "image_vis = test_dataset_vis[n][0].astype('uint8')\n",
    "image, gt_mask = test_dataset[n]\n",
    "\n",
    "gt_mask = gt_mask.squeeze()\n",
    "gt_mask_max = gt_mask.argmax(0)\n",
    "gt_mask_color = Labels.colorize(gt_mask_max)"
   ]
  },
  {
   "cell_type": "code",
   "execution_count": null,
   "metadata": {},
   "outputs": [],
   "source": [
    "#print(type(image))\n",
    "utils.visualize(image=image_vis, image_test=np.moveaxis(image, 0, -1))"
   ]
  },
  {
   "cell_type": "code",
   "execution_count": null,
   "metadata": {},
   "outputs": [],
   "source": [
    "x_tensor = torch.from_numpy(image).to(DEVICE).unsqueeze(0)\n",
    "pr_mask = best_model.predict(x_tensor)\n",
    "pr_mask = pr_mask.squeeze().cpu().numpy()"
   ]
  },
  {
   "cell_type": "code",
   "execution_count": null,
   "metadata": {},
   "outputs": [],
   "source": [
    "print(pr_mask.shape)\n",
    "for i in range(pr_mask.shape[0]):\n",
    "    utils.visualize(mask=pr_mask[i,...])"
   ]
  },
  {
   "cell_type": "code",
   "execution_count": null,
   "metadata": {},
   "outputs": [],
   "source": [
    "pr_mask_max = pr_mask.argmax(0)\n",
    "pr_mask_color = Labels.colorize(pr_mask_max)\n",
    "\n",
    "    \n",
    "utils.visualize(\n",
    "    image=image_vis, \n",
    "    ground_truth_mask=gt_mask_color, \n",
    "    predicted_mask=pr_mask_color\n",
    ")"
   ]
  }
 ],
 "metadata": {
  "interpreter": {
   "hash": "511f8f86b8338434476be880899c8acf9862b969e83c9c4204795bf5babd0d5f"
  },
  "kernelspec": {
   "display_name": "Python 3.6.15 64-bit ('mmcv': conda)",
   "language": "python",
   "name": "python3"
  },
  "language_info": {
   "codemirror_mode": {
    "name": "ipython",
    "version": 3
   },
   "file_extension": ".py",
   "mimetype": "text/x-python",
   "name": "python",
   "nbconvert_exporter": "python",
   "pygments_lexer": "ipython3",
   "version": "3.8.8"
  },
  "orig_nbformat": 4
 },
 "nbformat": 4,
 "nbformat_minor": 2
}
